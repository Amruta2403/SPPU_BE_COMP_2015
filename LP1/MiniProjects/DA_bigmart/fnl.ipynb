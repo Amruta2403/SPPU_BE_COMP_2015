{
 "cells": [
  {
   "cell_type": "code",
   "execution_count": 2,
   "metadata": {},
   "outputs": [
    {
     "name": "stderr",
     "output_type": "stream",
     "text": [
      "/root/anaconda3/lib/python3.7/site-packages/sklearn/cross_validation.py:41: DeprecationWarning: This module was deprecated in version 0.18 in favor of the model_selection module into which all the refactored classes and functions are moved. Also note that the interface of the new CV iterators are different from that of this module. This module will be removed in 0.20.\n",
      "  \"This module will be removed in 0.20.\", DeprecationWarning)\n"
     ]
    }
   ],
   "source": [
    "import pandas as pd\n",
    "import numpy as np\n",
    "import matplotlib.pyplot as plt\n",
    "%matplotlib inline\n",
    "from scipy.stats import kurtosis,skew\n",
    "from sklearn.linear_model import LinearRegression,Ridge\n",
    "from sklearn.preprocessing import LabelEncoder,StandardScaler\n",
    "from sklearn.tree import DecisionTreeRegressor,ExtraTreeRegressor\n",
    "from sklearn.ensemble import RandomForestRegressor,BaggingRegressor,GradientBoostingRegressor,ExtraTreesRegressor\n",
    "#import xgboost,lightgbm\n",
    "from sklearn.neighbors import KNeighborsRegressor\n",
    "from sklearn.metrics import mean_absolute_error,mean_squared_error\n",
    "from sklearn import linear_model\n",
    "from sklearn.cross_validation import train_test_split\n",
    "from sklearn.linear_model import ElasticNet, Lasso,  BayesianRidge, LassoLarsIC\n",
    "from sklearn.ensemble import RandomForestRegressor,  GradientBoostingRegressor\n",
    "from sklearn.kernel_ridge import KernelRidge\n",
    "from sklearn.pipeline import make_pipeline\n",
    "from sklearn.preprocessing import RobustScaler,MinMaxScaler,StandardScaler\n",
    "from sklearn.model_selection import KFold, cross_val_score, train_test_split\n",
    "from sklearn.metrics import mean_squared_error\n"
   ]
  },
  {
   "cell_type": "code",
   "execution_count": 3,
   "metadata": {},
   "outputs": [
    {
     "data": {
      "text/plain": [
       "(8523, 12)"
      ]
     },
     "execution_count": 3,
     "metadata": {},
     "output_type": "execute_result"
    }
   ],
   "source": [
    "d1=pd.read_csv('Train_UWu5bXk.csv')\n",
    "# d2=pd.read_csv('test1.csv')\n",
    "# data=pd.concat([d1,d2],axis=0)\n",
    "data=d1\n",
    "d1.shape"
   ]
  },
  {
   "cell_type": "code",
   "execution_count": 4,
   "metadata": {},
   "outputs": [
    {
     "data": {
      "text/plain": [
       "Low Fat    5089\n",
       "Regular    2889\n",
       "LF          316\n",
       "reg         117\n",
       "low fat     112\n",
       "Name: Item_Fat_Content, dtype: int64"
      ]
     },
     "execution_count": 4,
     "metadata": {},
     "output_type": "execute_result"
    }
   ],
   "source": [
    "data['Item_Fat_Content'].value_counts()"
   ]
  },
  {
   "cell_type": "code",
   "execution_count": 5,
   "metadata": {},
   "outputs": [],
   "source": [
    "data['Item_Fat_Content']=data['Item_Fat_Content'].map({'LF':0,'Low Fat':0,'Regular':1,'low fat':0,'reg':1})"
   ]
  },
  {
   "cell_type": "code",
   "execution_count": 6,
   "metadata": {},
   "outputs": [
    {
     "data": {
      "text/plain": [
       "Item_Identifier                 0\n",
       "Item_Weight                  1463\n",
       "Item_Fat_Content                0\n",
       "Item_Visibility                 0\n",
       "Item_Type                       0\n",
       "Item_MRP                        0\n",
       "Outlet_Identifier               0\n",
       "Outlet_Establishment_Year       0\n",
       "Outlet_Size                  2410\n",
       "Outlet_Location_Type            0\n",
       "Outlet_Type                     0\n",
       "Item_Outlet_Sales               0\n",
       "dtype: int64"
      ]
     },
     "execution_count": 6,
     "metadata": {},
     "output_type": "execute_result"
    }
   ],
   "source": [
    "data.isnull().sum()"
   ]
  },
  {
   "cell_type": "code",
   "execution_count": null,
   "metadata": {},
   "outputs": [],
   "source": []
  },
  {
   "cell_type": "code",
   "execution_count": 7,
   "metadata": {},
   "outputs": [],
   "source": [
    "yy=data.groupby('Item_Identifier')['Item_Weight'].mean()\n",
    "yy=dict(yy)\n",
    "data['Item_Weight'].fillna(-1.0,inplace=True)\n",
    "def ff(xx,d):\n",
    "    if(d==-1.0):\n",
    "        return yy[xx]\n",
    "    else:\n",
    "        return d\n",
    "data['Item_Weight']=data.apply(lambda x : ff(x['Item_Identifier'],x['Item_Weight']),axis=1)"
   ]
  },
  {
   "cell_type": "code",
   "execution_count": 8,
   "metadata": {},
   "outputs": [
    {
     "data": {
      "text/plain": [
       "Item_Identifier                 0\n",
       "Item_Weight                     4\n",
       "Item_Fat_Content                0\n",
       "Item_Visibility                 0\n",
       "Item_Type                       0\n",
       "Item_MRP                        0\n",
       "Outlet_Identifier               0\n",
       "Outlet_Establishment_Year       0\n",
       "Outlet_Size                  2410\n",
       "Outlet_Location_Type            0\n",
       "Outlet_Type                     0\n",
       "Item_Outlet_Sales               0\n",
       "dtype: int64"
      ]
     },
     "execution_count": 8,
     "metadata": {},
     "output_type": "execute_result"
    }
   ],
   "source": [
    "data.isnull().sum()"
   ]
  },
  {
   "cell_type": "code",
   "execution_count": 9,
   "metadata": {},
   "outputs": [
    {
     "data": {
      "text/plain": [
       "Item_Type\n",
       "Baking Goods             11.6500\n",
       "Breads                   10.6000\n",
       "Breakfast                10.6950\n",
       "Canned                   12.3500\n",
       "Dairy                    13.3500\n",
       "Frozen Foods             12.8500\n",
       "Fruits and Vegetables    13.1000\n",
       "Hard Drinks               9.8975\n",
       "Health and Hygiene       12.1500\n",
       "Household                13.5000\n",
       "Meat                     12.3500\n",
       "Others                   14.5000\n",
       "Seafood                  11.6500\n",
       "Snack Foods              13.1500\n",
       "Soft Drinks              11.8000\n",
       "Starchy Foods            13.5000\n",
       "Name: Item_Weight, dtype: float64"
      ]
     },
     "execution_count": 9,
     "metadata": {},
     "output_type": "execute_result"
    }
   ],
   "source": [
    "data.groupby('Item_Type')['Item_Weight'].median()"
   ]
  },
  {
   "cell_type": "code",
   "execution_count": 10,
   "metadata": {},
   "outputs": [],
   "source": [
    "data['Item_Weight'].fillna(10.0,inplace=True)"
   ]
  },
  {
   "cell_type": "code",
   "execution_count": 11,
   "metadata": {},
   "outputs": [
    {
     "data": {
      "text/plain": [
       "Outlet_Type        Outlet_Size\n",
       "Grocery Store      Small           528\n",
       "Supermarket Type1  Small          1860\n",
       "                   High            932\n",
       "                   Medium          930\n",
       "Supermarket Type2  Medium          928\n",
       "Supermarket Type3  Medium          935\n",
       "Name: Outlet_Size, dtype: int64"
      ]
     },
     "execution_count": 11,
     "metadata": {},
     "output_type": "execute_result"
    }
   ],
   "source": [
    "data.groupby('Outlet_Type')['Outlet_Size'].value_counts()"
   ]
  },
  {
   "cell_type": "code",
   "execution_count": 12,
   "metadata": {},
   "outputs": [
    {
     "data": {
      "text/plain": [
       "Outlet_Type        Outlet_Size\n",
       "Grocery Store      Small           340.329723\n",
       "Supermarket Type1  High           2298.995256\n",
       "                   Medium         2348.354635\n",
       "                   Small          2358.343066\n",
       "Supermarket Type2  Medium         1995.498739\n",
       "Supermarket Type3  Medium         3694.038558\n",
       "Name: Item_Outlet_Sales, dtype: float64"
      ]
     },
     "execution_count": 12,
     "metadata": {},
     "output_type": "execute_result"
    }
   ],
   "source": [
    "data.groupby(['Outlet_Type','Outlet_Size'])['Item_Outlet_Sales'].mean()"
   ]
  },
  {
   "cell_type": "code",
   "execution_count": 13,
   "metadata": {},
   "outputs": [],
   "source": [
    "data['Outlet_Size'].fillna('Small',inplace=True)\n",
    "# data.Outlet_Size"
   ]
  },
  {
   "cell_type": "code",
   "execution_count": 14,
   "metadata": {},
   "outputs": [
    {
     "data": {
      "text/plain": [
       "<matplotlib.axes._subplots.AxesSubplot at 0x7f6a8dd71d68>"
      ]
     },
     "execution_count": 14,
     "metadata": {},
     "output_type": "execute_result"
    },
    {
     "data": {
      "image/png": "[encoded data removed]",
      "text/plain": [
       "<Figure size 720x432 with 1 Axes>"
      ]
     },
     "metadata": {
      "needs_background": "light"
     },
     "output_type": "display_data"
    }
   ],
   "source": [
    "data['Item_MRP'].hist(bins=200,figsize=(10,6))"
   ]
  },
  {
   "cell_type": "code",
   "execution_count": 15,
   "metadata": {
    "scrolled": true
   },
   "outputs": [
    {
     "data": {
      "text/plain": [
       "(array([   3,    4,    5,   10,   32,   33,   46,   60,   72,   79,  107,\n",
       "         114,  144,  156,  175,  212,  214,  216,  219,  228,  307,  349,\n",
       "         370,  379,  386,  388,  411,  423,  447,  472,  478,  482,  499,\n",
       "         500,  505,  520,  535,  545,  559,  576,  596,  600,  602,  613,\n",
       "         623,  633,  651,  677,  687,  722,  737,  741,  747,  781,  791,\n",
       "         792,  801,  802,  838,  840,  844,  900,  906,  943,  955,  968,\n",
       "        1063, 1074, 1094, 1113, 1118, 1120, 1143, 1145, 1146, 1179, 1197,\n",
       "        1212, 1243, 1263, 1292, 1326, 1335, 1346, 1350, 1351, 1390, 1391,\n",
       "        1405, 1418, 1450, 1454, 1463, 1467, 1472, 1483, 1486, 1505, 1508,\n",
       "        1511, 1537, 1585, 1623, 1633, 1636, 1643, 1649, 1665, 1691, 1693,\n",
       "        1727, 1758, 1760, 1761, 1768, 1782, 1809, 1851, 1862, 1893, 1898,\n",
       "        1913, 1953, 1972, 2007, 2018, 2022, 2053, 2055, 2062, 2138, 2192,\n",
       "        2217, 2249, 2330, 2331, 2340, 2347, 2376, 2381, 2394, 2397, 2469,\n",
       "        2484, 2521, 2522, 2545, 2547, 2551, 2561, 2590, 2606, 2638, 2644,\n",
       "        2655, 2658, 2677, 2687, 2703, 2747, 2801, 2832, 2861, 2863, 2864,\n",
       "        2867, 2894, 2898, 2912, 2928, 2960, 2967, 3021, 3033, 3052, 3066,\n",
       "        3089, 3093, 3107, 3116, 3128, 3135, 3163, 3255, 3257, 3259, 3290,\n",
       "        3315, 3350, 3353, 3360, 3363, 3390, 3400, 3402, 3413, 3419, 3425,\n",
       "        3428, 3522, 3523, 3525, 3527, 3543, 3580, 3592, 3597, 3599, 3628,\n",
       "        3629, 3640, 3647, 3672, 3687, 3688, 3693, 3727, 3739, 3759, 3760,\n",
       "        3762, 3776, 3821, 3823, 3826, 3829, 3857, 3863, 3890, 3891, 3895,\n",
       "        3906, 3918, 3943, 3956, 3970, 3971, 3973, 3975, 3977, 3979, 4003,\n",
       "        4036, 4040, 4051, 4073, 4078, 4087, 4108, 4113, 4129, 4132, 4157,\n",
       "        4162, 4171, 4206, 4208, 4217, 4231, 4240, 4303, 4306, 4310, 4314,\n",
       "        4335, 4346, 4347, 4386, 4391, 4481, 4487, 4552, 4576, 4578, 4594,\n",
       "        4599, 4603, 4607, 4637, 4643, 4658, 4661, 4676, 4704, 4710, 4724,\n",
       "        4725, 4734, 4749, 4751, 4752, 4782, 4791, 4795, 4833, 4836, 4859,\n",
       "        4864, 4873, 4893, 4911, 4912, 4915, 4960, 4973, 5001, 5006, 5013,\n",
       "        5043, 5052, 5063, 5094, 5138, 5147, 5165, 5207, 5215, 5238, 5268,\n",
       "        5313, 5317, 5334, 5335, 5369, 5382, 5388, 5399, 5400, 5434, 5438,\n",
       "        5444, 5463, 5482, 5493, 5494, 5504, 5506, 5507, 5536, 5609, 5629,\n",
       "        5644, 5650, 5652, 5665, 5668, 5726, 5742, 5760, 5781, 5794, 5881,\n",
       "        5885, 5894, 5899, 5914, 5936, 5942, 5945, 5953, 6039, 6041, 6069,\n",
       "        6081, 6086, 6093, 6138, 6183, 6201, 6228, 6232, 6243, 6261, 6277,\n",
       "        6293, 6308, 6311, 6315, 6340, 6341, 6348, 6396, 6453, 6459, 6462,\n",
       "        6489, 6496, 6503, 6559, 6584, 6585, 6602, 6614, 6634, 6645, 6672,\n",
       "        6719, 6722, 6730, 6737, 6781, 6787, 6814, 6817, 6838, 6861, 6905,\n",
       "        6938, 6963, 6965, 6975, 6976, 6979, 6992, 6998, 7019, 7026, 7034,\n",
       "        7038, 7040, 7066, 7075, 7095, 7102, 7112, 7124, 7148, 7149, 7163,\n",
       "        7184, 7204, 7218, 7228, 7231, 7240, 7242, 7255, 7262, 7265, 7269,\n",
       "        7274, 7286, 7320, 7323, 7341, 7349, 7351, 7393, 7394, 7421, 7433,\n",
       "        7436, 7438, 7439, 7450, 7462, 7478, 7495, 7505, 7506, 7510, 7549,\n",
       "        7550, 7562, 7568, 7574, 7585, 7586, 7636, 7650, 7653, 7667, 7695,\n",
       "        7719, 7773, 7778, 7786, 7799, 7841, 7849, 7855, 7858, 7897, 7903,\n",
       "        7916, 7920, 7927, 7952, 7972, 7975, 7984, 7993, 8008, 8018, 8041,\n",
       "        8047, 8053, 8070, 8071, 8105, 8148, 8149, 8151, 8211, 8212, 8247,\n",
       "        8253, 8260, 8285, 8310, 8323, 8327, 8343, 8380, 8395, 8404, 8410,\n",
       "        8425, 8435, 8439, 8467, 8480, 8484, 8486, 8494, 8500]),)"
      ]
     },
     "execution_count": 15,
     "metadata": {},
     "output_type": "execute_result"
    }
   ],
   "source": [
    "np.where(data.Item_Visibility<=0)"
   ]
  },
  {
   "cell_type": "code",
   "execution_count": 16,
   "metadata": {},
   "outputs": [],
   "source": [
    "yy=data[data.Item_Visibility>0.0].groupby('Item_Identifier')['Item_Visibility'].mean()\n",
    "yy=dict(yy)\n",
    "\n",
    "def ff(x,y):\n",
    "    if(x==0.0):\n",
    "        return yy[y]\n",
    "    else:\n",
    "        return x\n",
    "data['Item_Visibility']=data.apply(lambda x : ff(x['Item_Visibility'],x['Item_Identifier']),axis=1)"
   ]
  },
  {
   "cell_type": "code",
   "execution_count": 17,
   "metadata": {},
   "outputs": [
    {
     "data": {
      "text/plain": [
       "count    8523.000000\n",
       "mean        1.000000\n",
       "std         0.185650\n",
       "min         0.677918\n",
       "25%         0.889593\n",
       "50%         0.997083\n",
       "75%         1.001012\n",
       "max         1.614811\n",
       "Name: itemimportance, dtype: float64"
      ]
     },
     "execution_count": 17,
     "metadata": {},
     "output_type": "execute_result"
    }
   ],
   "source": [
    "ya=data.groupby('Item_Identifier')['Item_Visibility'].mean()\n",
    "ya=dict(ya)\n",
    "\n",
    "def ff(x,y):\n",
    "    return (x/ya[y])\n",
    "data['itemimportance']=data.apply(lambda x : ff(x['Item_Visibility'],x['Item_Identifier']),axis=1)\n",
    "\n",
    "data['itemimportance'].describe()"
   ]
  },
  {
   "cell_type": "code",
   "execution_count": 18,
   "metadata": {},
   "outputs": [],
   "source": [
    "\n",
    "data['years']=2018-data['Outlet_Establishment_Year']\n",
    "del data['Outlet_Establishment_Year']\n",
    "\n",
    "lb=LabelEncoder()\n",
    "lb.fit(data['Item_Type'])\n",
    "data['Item_Type']=lb.transform(data['Item_Type'])\n",
    "lb=LabelEncoder()\n",
    "\n",
    "\n",
    "lb.fit(data['Outlet_Identifier'])\n",
    "data['Outlet_Identifier']=lb.transform(data['Outlet_Identifier'])\n",
    "\n",
    "lb=LabelEncoder()\n",
    "lb.fit(data['Outlet_Size'])\n",
    "data['Outlet_Size']=lb.transform(data['Outlet_Size'])\n",
    "\n",
    "lb=LabelEncoder()\n",
    "lb.fit(data['Outlet_Location_Type'])\n",
    "data['Outlet_Location_Type']=lb.transform(data['Outlet_Location_Type'])\n",
    "\n",
    "lb=LabelEncoder()\n",
    "lb.fit(data['Outlet_Type'])\n",
    "data['Outlet_Type']=lb.transform(data['Outlet_Type'])\n"
   ]
  },
  {
   "cell_type": "code",
   "execution_count": 19,
   "metadata": {},
   "outputs": [
    {
     "data": {
      "text/plain": [
       "Item_Identifier         0\n",
       "Item_Weight             0\n",
       "Item_Fat_Content        0\n",
       "Item_Visibility         0\n",
       "Item_Type               0\n",
       "Item_MRP                0\n",
       "Outlet_Identifier       0\n",
       "Outlet_Size             0\n",
       "Outlet_Location_Type    0\n",
       "Outlet_Type             0\n",
       "Item_Outlet_Sales       0\n",
       "itemimportance          0\n",
       "years                   0\n",
       "dtype: int64"
      ]
     },
     "execution_count": 19,
     "metadata": {},
     "output_type": "execute_result"
    }
   ],
   "source": [
    "data.isnull().sum()"
   ]
  },
  {
   "cell_type": "code",
   "execution_count": 20,
   "metadata": {},
   "outputs": [
    {
     "data": {
      "text/html": [
       "<div>\n",
       "<style scoped>\n",
       "    .dataframe tbody tr th:only-of-type {\n",
       "        vertical-align: middle;\n",
       "    }\n",
       "\n",
       "    .dataframe tbody tr th {\n",
       "        vertical-align: top;\n",
       "    }\n",
       "\n",
       "    .dataframe thead th {\n",
       "        text-align: right;\n",
       "    }\n",
       "</style>\n",
       "<table border=\"1\" class=\"dataframe\">\n",
       "  <thead>\n",
       "    <tr style=\"text-align: right;\">\n",
       "      <th></th>\n",
       "      <th>Item_Weight</th>\n",
       "      <th>Item_Fat_Content</th>\n",
       "      <th>Item_Visibility</th>\n",
       "      <th>Item_Type</th>\n",
       "      <th>Item_MRP</th>\n",
       "      <th>Outlet_Identifier</th>\n",
       "      <th>Outlet_Size</th>\n",
       "      <th>Outlet_Location_Type</th>\n",
       "      <th>Outlet_Type</th>\n",
       "      <th>Item_Outlet_Sales</th>\n",
       "      <th>itemimportance</th>\n",
       "      <th>years</th>\n",
       "    </tr>\n",
       "  </thead>\n",
       "  <tbody>\n",
       "    <tr>\n",
       "      <th>count</th>\n",
       "      <td>8523.000000</td>\n",
       "      <td>8523.000000</td>\n",
       "      <td>8523.000000</td>\n",
       "      <td>8523.000000</td>\n",
       "      <td>8523.000000</td>\n",
       "      <td>8523.000000</td>\n",
       "      <td>8523.000000</td>\n",
       "      <td>8523.000000</td>\n",
       "      <td>8523.000000</td>\n",
       "      <td>8523.000000</td>\n",
       "      <td>8523.000000</td>\n",
       "      <td>8523.000000</td>\n",
       "    </tr>\n",
       "    <tr>\n",
       "      <th>mean</th>\n",
       "      <td>12.874071</td>\n",
       "      <td>0.352693</td>\n",
       "      <td>0.070749</td>\n",
       "      <td>7.226681</td>\n",
       "      <td>140.992782</td>\n",
       "      <td>4.722281</td>\n",
       "      <td>1.453596</td>\n",
       "      <td>1.112871</td>\n",
       "      <td>1.201220</td>\n",
       "      <td>2181.288914</td>\n",
       "      <td>1.000000</td>\n",
       "      <td>20.168133</td>\n",
       "    </tr>\n",
       "    <tr>\n",
       "      <th>std</th>\n",
       "      <td>4.645425</td>\n",
       "      <td>0.477836</td>\n",
       "      <td>0.050313</td>\n",
       "      <td>4.209990</td>\n",
       "      <td>62.275067</td>\n",
       "      <td>2.837201</td>\n",
       "      <td>0.683084</td>\n",
       "      <td>0.812757</td>\n",
       "      <td>0.796459</td>\n",
       "      <td>1706.499616</td>\n",
       "      <td>0.185650</td>\n",
       "      <td>8.371760</td>\n",
       "    </tr>\n",
       "    <tr>\n",
       "      <th>min</th>\n",
       "      <td>4.555000</td>\n",
       "      <td>0.000000</td>\n",
       "      <td>0.003575</td>\n",
       "      <td>0.000000</td>\n",
       "      <td>31.290000</td>\n",
       "      <td>0.000000</td>\n",
       "      <td>0.000000</td>\n",
       "      <td>0.000000</td>\n",
       "      <td>0.000000</td>\n",
       "      <td>33.290000</td>\n",
       "      <td>0.677918</td>\n",
       "      <td>9.000000</td>\n",
       "    </tr>\n",
       "    <tr>\n",
       "      <th>25%</th>\n",
       "      <td>8.785000</td>\n",
       "      <td>0.000000</td>\n",
       "      <td>0.031395</td>\n",
       "      <td>4.000000</td>\n",
       "      <td>93.826500</td>\n",
       "      <td>2.000000</td>\n",
       "      <td>1.000000</td>\n",
       "      <td>0.000000</td>\n",
       "      <td>1.000000</td>\n",
       "      <td>834.247400</td>\n",
       "      <td>0.889593</td>\n",
       "      <td>14.000000</td>\n",
       "    </tr>\n",
       "    <tr>\n",
       "      <th>50%</th>\n",
       "      <td>12.600000</td>\n",
       "      <td>0.000000</td>\n",
       "      <td>0.058100</td>\n",
       "      <td>6.000000</td>\n",
       "      <td>143.012800</td>\n",
       "      <td>5.000000</td>\n",
       "      <td>2.000000</td>\n",
       "      <td>1.000000</td>\n",
       "      <td>1.000000</td>\n",
       "      <td>1794.331000</td>\n",
       "      <td>0.997083</td>\n",
       "      <td>19.000000</td>\n",
       "    </tr>\n",
       "    <tr>\n",
       "      <th>75%</th>\n",
       "      <td>16.850000</td>\n",
       "      <td>1.000000</td>\n",
       "      <td>0.098867</td>\n",
       "      <td>10.000000</td>\n",
       "      <td>185.643700</td>\n",
       "      <td>7.000000</td>\n",
       "      <td>2.000000</td>\n",
       "      <td>2.000000</td>\n",
       "      <td>1.000000</td>\n",
       "      <td>3101.296400</td>\n",
       "      <td>1.001012</td>\n",
       "      <td>31.000000</td>\n",
       "    </tr>\n",
       "    <tr>\n",
       "      <th>max</th>\n",
       "      <td>21.350000</td>\n",
       "      <td>1.000000</td>\n",
       "      <td>0.328391</td>\n",
       "      <td>15.000000</td>\n",
       "      <td>266.888400</td>\n",
       "      <td>9.000000</td>\n",
       "      <td>2.000000</td>\n",
       "      <td>2.000000</td>\n",
       "      <td>3.000000</td>\n",
       "      <td>13086.964800</td>\n",
       "      <td>1.614811</td>\n",
       "      <td>33.000000</td>\n",
       "    </tr>\n",
       "  </tbody>\n",
       "</table>\n",
       "</div>"
      ],
      "text/plain": [
       "       Item_Weight  Item_Fat_Content  Item_Visibility    Item_Type  \\\n",
       "count  8523.000000       8523.000000      8523.000000  8523.000000   \n",
       "mean     12.874071          0.352693         0.070749     7.226681   \n",
       "std       4.645425          0.477836         0.050313     4.209990   \n",
       "min       4.555000          0.000000         0.003575     0.000000   \n",
       "25%       8.785000          0.000000         0.031395     4.000000   \n",
       "50%      12.600000          0.000000         0.058100     6.000000   \n",
       "75%      16.850000          1.000000         0.098867    10.000000   \n",
       "max      21.350000          1.000000         0.328391    15.000000   \n",
       "\n",
       "          Item_MRP  Outlet_Identifier  Outlet_Size  Outlet_Location_Type  \\\n",
       "count  8523.000000        8523.000000  8523.000000           8523.000000   \n",
       "mean    140.992782           4.722281     1.453596              1.112871   \n",
       "std      62.275067           2.837201     0.683084              0.812757   \n",
       "min      31.290000           0.000000     0.000000              0.000000   \n",
       "25%      93.826500           2.000000     1.000000              0.000000   \n",
       "50%     143.012800           5.000000     2.000000              1.000000   \n",
       "75%     185.643700           7.000000     2.000000              2.000000   \n",
       "max     266.888400           9.000000     2.000000              2.000000   \n",
       "\n",
       "       Outlet_Type  Item_Outlet_Sales  itemimportance        years  \n",
       "count  8523.000000        8523.000000     8523.000000  8523.000000  \n",
       "mean      1.201220        2181.288914        1.000000    20.168133  \n",
       "std       0.796459        1706.499616        0.185650     8.371760  \n",
       "min       0.000000          33.290000        0.677918     9.000000  \n",
       "25%       1.000000         834.247400        0.889593    14.000000  \n",
       "50%       1.000000        1794.331000        0.997083    19.000000  \n",
       "75%       1.000000        3101.296400        1.001012    31.000000  \n",
       "max       3.000000       13086.964800        1.614811    33.000000  "
      ]
     },
     "execution_count": 20,
     "metadata": {},
     "output_type": "execute_result"
    }
   ],
   "source": [
    "data.describe()"
   ]
  },
  {
   "cell_type": "code",
   "execution_count": null,
   "metadata": {},
   "outputs": [],
   "source": []
  },
  {
   "cell_type": "code",
   "execution_count": 21,
   "metadata": {},
   "outputs": [
    {
     "data": {
      "text/plain": [
       "<matplotlib.axes._subplots.AxesSubplot at 0x7f6a8d74fd30>"
      ]
     },
     "execution_count": 21,
     "metadata": {},
     "output_type": "execute_result"
    },
    {
     "data": {
      "image/png": "[encoded data removed]",
      "text/plain": [
       "<Figure size 432x288 with 1 Axes>"
      ]
     },
     "metadata": {
      "needs_background": "light"
     },
     "output_type": "display_data"
    }
   ],
   "source": [
    "data.boxplot(by='Outlet_Type',column='Item_Outlet_Sales')"
   ]
  },
  {
   "cell_type": "code",
   "execution_count": null,
   "metadata": {},
   "outputs": [],
   "source": []
  },
  {
   "cell_type": "code",
   "execution_count": 22,
   "metadata": {
    "scrolled": true
   },
   "outputs": [
    {
     "data": {
      "text/plain": [
       "((8500, 11), (8500,), (23, 11))"
      ]
     },
     "execution_count": 22,
     "metadata": {},
     "output_type": "execute_result"
    }
   ],
   "source": [
    "del data['Item_Identifier']\n",
    "test=data[8500:]\n",
    "data=data[0:8500]\n",
    "yd=data['Item_Outlet_Sales']\n",
    "del data['Item_Outlet_Sales']\n",
    "del test['Item_Outlet_Sales']\n",
    "data.shape,yd.shape,test.shape"
   ]
  },
  {
   "cell_type": "code",
   "execution_count": 23,
   "metadata": {
    "scrolled": true
   },
   "outputs": [],
   "source": [
    "yy=yd"
   ]
  },
  {
   "cell_type": "code",
   "execution_count": 24,
   "metadata": {},
   "outputs": [
    {
     "data": {
      "text/plain": [
       "(array([], dtype=int64), array([], dtype=int64))"
      ]
     },
     "execution_count": 24,
     "metadata": {},
     "output_type": "execute_result"
    }
   ],
   "source": [
    "np.where(np.isnan(data))"
   ]
  },
  {
   "cell_type": "code",
   "execution_count": 25,
   "metadata": {},
   "outputs": [
    {
     "data": {
      "text/plain": [
       "Item_Weight             0\n",
       "Item_Fat_Content        0\n",
       "Item_Visibility         0\n",
       "Item_Type               0\n",
       "Item_MRP                0\n",
       "Outlet_Identifier       0\n",
       "Outlet_Size             0\n",
       "Outlet_Location_Type    0\n",
       "Outlet_Type             0\n",
       "itemimportance          0\n",
       "years                   0\n",
       "dtype: int64"
      ]
     },
     "execution_count": 25,
     "metadata": {},
     "output_type": "execute_result"
    }
   ],
   "source": [
    "data.isnull().sum()"
   ]
  },
  {
   "cell_type": "code",
   "execution_count": 26,
   "metadata": {},
   "outputs": [
    {
     "name": "stdout",
     "output_type": "stream",
     "text": [
      "1182.750863263586\n",
      "1150.278513792006\n",
      "1152.0642761312756\n",
      "1163.5739949286117\n",
      "1191.4214846676373\n",
      "AVG  RMSE:: 1168.0178265566233\n"
     ]
    }
   ],
   "source": [
    "#simple linear regression with cross validation of 5 fold\n",
    "avg=0.0\n",
    "skf=KFold(n_splits=5)\n",
    "skf.get_n_splits(data)\n",
    "for ti,tj in skf.split(data):\n",
    "    dx,tx=data.iloc[ti],data.iloc[tj]\n",
    "    dy,ty=yy[ti],yy[tj]\n",
    "    lm=make_pipeline(MinMaxScaler(), linear_model.LinearRegression(n_jobs=-1))\n",
    "    lm.fit(dx,dy)\n",
    "    yu=np.sqrt(mean_squared_error(y_true=ty,y_pred=lm.predict(tx)))\n",
    "    avg=avg+yu\n",
    "    print(yu)\n",
    "\n",
    "print(\"AVG  RMSE::\",avg/5)"
   ]
  },
  {
   "cell_type": "code",
   "execution_count": null,
   "metadata": {},
   "outputs": [],
   "source": []
  },
  {
   "cell_type": "code",
   "execution_count": 27,
   "metadata": {},
   "outputs": [
    {
     "name": "stdout",
     "output_type": "stream",
     "text": [
      "1182.7779299614663\n",
      "1150.2720173247146\n",
      "1152.0511903217284\n",
      "1163.5844699829454\n",
      "1191.396332330722\n",
      "AVG  RMSE:: 1168.0163879843153\n"
     ]
    }
   ],
   "source": [
    "#simple elasticnet regression with cross validation of 5 fold\n",
    "avg=0.0\n",
    "skf=KFold(n_splits=5)\n",
    "skf.get_n_splits(data)\n",
    "for ti,tj in skf.split(data):\n",
    "    dx,tx=data.iloc[ti],data.iloc[tj]\n",
    "    dy,ty=yy[ti],yy[tj]\n",
    "    lm=make_pipeline(StandardScaler(), linear_model.ElasticNet(l1_ratio=0.6,alpha=0.001))\n",
    "    lm.fit(dx,dy)\n",
    "    yu=np.sqrt(mean_squared_error(y_true=ty,y_pred=lm.predict(tx)))\n",
    "    avg=avg+yu\n",
    "    print(yu)\n",
    "\n",
    "print(\"AVG  RMSE::\",avg/5)"
   ]
  },
  {
   "cell_type": "code",
   "execution_count": null,
   "metadata": {},
   "outputs": [],
   "source": []
  },
  {
   "cell_type": "code",
   "execution_count": 28,
   "metadata": {},
   "outputs": [
    {
     "name": "stdout",
     "output_type": "stream",
     "text": [
      "1110.8036618358874\n",
      "1089.2522211857552\n",
      "1098.3083598819362\n",
      "1073.752817450136\n",
      "1098.6251787039776\n",
      "AVG  RMSE:: 1094.1484478115385\n"
     ]
    }
   ],
   "source": [
    "#simple Decision Tree regression with cross validation of 5 fold\n",
    "avg=0.0\n",
    "skf=KFold(n_splits=5)\n",
    "skf.get_n_splits(data)\n",
    "for ti,tj in skf.split(data):\n",
    "    dx,tx=data.iloc[ti],data.iloc[tj]\n",
    "    dy,ty=yy[ti],yy[tj]\n",
    "    lm=DecisionTreeRegressor(max_depth=5)\n",
    "    lm.fit(dx,dy)\n",
    "    yu=np.sqrt(mean_squared_error(y_true=ty,y_pred=lm.predict(tx)))\n",
    "    avg=avg+yu\n",
    "    print(yu)\n",
    "\n",
    "print(\"AVG  RMSE::\",avg/5)"
   ]
  },
  {
   "cell_type": "code",
   "execution_count": null,
   "metadata": {},
   "outputs": [],
   "source": []
  },
  {
   "cell_type": "code",
   "execution_count": 82,
   "metadata": {
    "scrolled": true
   },
   "outputs": [
    {
     "name": "stdout",
     "output_type": "stream",
     "text": [
      "1101.9124214631652\n",
      "1079.9706058781178\n",
      "1084.868572424402\n",
      "1075.670668858084\n",
      "1082.2907380547292\n",
      "AVG  RMSE:: 1084.9426013356997\n"
     ]
    }
   ],
   "source": [
    "#simple Random Forest Tree regression with cross validation of 5 fold\n",
    "avg=0.0\n",
    "skf=KFold(n_splits=5)\n",
    "skf.get_n_splits(data)\n",
    "for ti,tj in skf.split(data):\n",
    "    dx,tx=data.iloc[ti],data.iloc[tj]\n",
    "    dy,ty=yy[ti],yy[tj]\n",
    "    lm=RandomForestRegressor(max_depth=5,n_jobs=-1,n_estimators=100)\n",
    "    lm.fit(dx,dy)\n",
    "    yu=np.sqrt(mean_squared_error(y_true=ty,y_pred=lm.predict(tx)))\n",
    "    avg=avg+yu\n",
    "    print(yu)\n",
    "\n",
    "print(\"AVG  RMSE::\",avg/5)"
   ]
  },
  {
   "cell_type": "code",
   "execution_count": null,
   "metadata": {
    "collapsed": true
   },
   "outputs": [],
   "source": []
  }
 ],
 "metadata": {
  "kernelspec": {
   "display_name": "Python 3",
   "language": "python",
   "name": "python3"
  },
  "language_info": {
   "codemirror_mode": {
    "name": "ipython",
    "version": 3
   },
   "file_extension": ".py",
   "mimetype": "text/x-python",
   "name": "python",
   "nbconvert_exporter": "python",
   "pygments_lexer": "ipython3",
   "version": "3.7.0"
  }
 },
 "nbformat": 4,
 "nbformat_minor": 2
}
