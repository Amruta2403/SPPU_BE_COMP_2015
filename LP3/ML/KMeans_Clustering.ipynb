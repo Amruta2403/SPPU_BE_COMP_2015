{
<<<<<<< HEAD
 "cells": [
  {
   "cell_type": "code",
   "execution_count": 3,
   "metadata": {},
   "outputs": [],
   "source": [
    "import numpy as np\n",
    "import matplotlib.pyplot as plt\n",
    "import math\n",
    "%matplotlib inline"
   ]
  },
  {
   "cell_type": "code",
   "execution_count": 4,
   "metadata": {},
   "outputs": [],
   "source": [
    "x=np.array([0.1,0.15,0.08,0.16,0.2,0.25,0.24,0.3])\n",
    "y=np.array([0.6,0.71,0.9,0.85,0.3,0.5,0.1,0.2])"
   ]
  },
  {
   "cell_type": "code",
   "execution_count": 5,
   "metadata": {},
   "outputs": [
    {
     "data": {
      "image/png": "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\n",
      "text/plain": [
       "<Figure size 432x288 with 1 Axes>"
      ]
     },
     "metadata": {
      "needs_background": "light"
     },
     "output_type": "display_data"
    }
   ],
   "source": [
    "#data points mapped on CY axis\n",
    "plt.plot(x,y,\"o\")\n",
    "plt.show()"
   ]
  },
  {
   "cell_type": "code",
   "execution_count": 6,
   "metadata": {},
   "outputs": [],
   "source": [
    "def eucledian_distance(x1,y1,x2,y2):\n",
    "    return math.sqrt((x1-x2)**2+(y1-y2)**2)"
   ]
  },
  {
   "cell_type": "code",
   "execution_count": 7,
   "metadata": {},
   "outputs": [],
   "source": [
    "def returnCluster(m1,m2,x_co,y_co):\n",
    "    distance1=eucledian_distance(m1[0],m1[1],x_co,y_co)\n",
    "    \n",
    "    distance2=eucledian_distance(m2[0],m2[1],x_co,y_co)\n",
    "    \n",
    "    if(distance1<distance2):\n",
    "        return 1;\n",
    "    else:\n",
    "        return 2;\n",
    "    "
   ]
  },
  {
   "cell_type": "code",
   "execution_count": null,
   "metadata": {},
   "outputs": [],
   "source": []
  },
  {
   "cell_type": "code",
   "execution_count": 36,
   "metadata": {},
   "outputs": [
    {
     "name": "stdout",
     "output_type": "stream",
     "text": [
      "Iteration  0  : m1= [0.1, 0.6]  m2= [0.3, 0.2]\n",
      "cluster 1 [[0.1, 0.6], [0.15, 0.71], [0.08, 0.9], [0.16, 0.85], [0.25, 0.5]] \n",
      "CLuster 2:  [[0.2, 0.3], [0.24, 0.1], [0.3, 0.2]]\n",
      "m1 =  [0.148 0.712]  m2= [0.24666667 0.2       ]\n",
      "Difference  :  0.05600000000000001\n",
      "\n",
      "Iteration  1  : m1= [0.148 0.712]  m2= [0.24666667 0.2       ]\n",
      "cluster 1 [[0.1, 0.6], [0.15, 0.71], [0.08, 0.9], [0.16, 0.85], [0.25, 0.5]] \n",
      "CLuster 2:  [[0.2, 0.3], [0.24, 0.1], [0.3, 0.2]]\n",
      "m1 =  [0.148 0.712]  m2= [0.24666667 0.2       ]\n",
      "Difference  :  0.0\n",
      "\n"
     ]
    }
   ],
   "source": [
    "#initial centroids for cluster1 nd cluster 2\n",
    "m1=[0.1,0.6]\n",
    "m2=[0.3,0.2]\n",
    "difference = math.inf\n",
    "threshold=0.02\n",
    "iteration=0;\n",
    "while difference>threshold: #use any one condition #iteration one is easy\n",
    "    print(\"Iteration \",iteration, \" : m1=\",m1, \" m2=\",m2)\n",
    "    cluster1=[];\n",
    "    cluster2=[];\n",
    "    \n",
    "    #step1 assign all points to nearest cluster\n",
    "    for i in range(0,np.size(x)):\n",
    "        clusterNumber=returnCluster(m1,m2,x[i],y[i])\n",
    "        point=[x[i],y[i]]\n",
    "        if clusterNumber==1:\n",
    "            cluster1.append(point);\n",
    "        else:\n",
    "            cluster2.append(point)\n",
    "        \n",
    "    print(\"cluster 1\", cluster1,\"\\nCLuster 2: \", cluster2)\n",
    "    \n",
    "    #step 2: Calculating new centriod for cluster1\n",
    "    m1_old=m1;\n",
    "    m1=[]\n",
    "    m1=np.mean(cluster1, axis=0)\n",
    "    \n",
    "    #calculating centroid for cluster2\n",
    "    m2_old=m2;\n",
    "    m2=[];\n",
    "    m2=np.mean(cluster2,axis=0)\n",
    "    print(\"m1 = \",m1,\" m2=\",m2)\n",
    "    \n",
    "    #adjusting diffrences of adjustment between m1 nd m1_old\n",
    "    xAvg=0.0;\n",
    "    yAvg=0.0;\n",
    "    xAvg=math.fabs(m1[0]-m1_old[0])+math.fabs(m2[0]-m2_old[0])\n",
    "    xAvg=xAvg/2;\n",
    "    \n",
    "    yAvg=math.fabs(m1[1]-m1_old[1])+math.fabs(m2[1]-m2_old[1])\n",
    "    yAvg=yAvg/2;\n",
    "    \n",
    "    if(xAvg>yAvg):\n",
    "        difference=xAvg;\n",
    "    else:\n",
    "        difference=yAvg;\n",
    "        \n",
    "    print(\"Difference  : \", difference)\n",
    "    iteration+=1;\n",
    "    print(\"\")\n",
    "    "
   ]
  },
  {
   "cell_type": "code",
   "execution_count": 37,
   "metadata": {},
   "outputs": [
    {
     "name": "stdout",
     "output_type": "stream",
     "text": [
      "Cluster 1 centroid : m1 =  [0.148 0.712]\n",
      "CLuster 1 points:  [[0.1, 0.6], [0.15, 0.71], [0.08, 0.9], [0.16, 0.85], [0.25, 0.5]]\n",
      "Cluster 2 centroid : m2 =  [0.24666667 0.2       ]\n",
      "CLuster 2 points:  [[0.2, 0.3], [0.24, 0.1], [0.3, 0.2]]\n"
     ]
    },
    {
     "data": {
      "image/png": "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\n",
      "text/plain": [
       "<Figure size 432x288 with 1 Axes>"
      ]
     },
     "metadata": {
      "needs_background": "light"
     },
     "output_type": "display_data"
    }
   ],
   "source": [
    "#final Output\n",
    "print(\"Cluster 1 centroid : m1 = \",m1)\n",
    "print(\"CLuster 1 points: \", cluster1)\n",
    "print(\"Cluster 2 centroid : m2 = \",m2)\n",
    "print(\"CLuster 2 points: \", cluster2)\n",
    "\n",
    "clust1=np.array(cluster1)\n",
    "clust2=np.array(cluster2)\n",
    "\n",
    "#cluster 1 points\n",
    "plt.plot(clust1[:,0],clust1[:,1],\"o\")\n",
    "\n",
    "#cluster2 points\n",
    "plt.plot(clust2[:,0], clust2[:,1],\"*\")\n",
    "\n",
    "#centroids\n",
    "plt.plot([m1[0],m2[0]],[m1[1],m2[1]],\"^\")\n",
    "plt.show()"
   ]
  },
  {
   "cell_type": "code",
   "execution_count": 45,
   "metadata": {},
   "outputs": [
    {
     "data": {
      "image/png": "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\n",
      "text/plain": [
       "<Figure size 432x288 with 1 Axes>"
      ]
     },
     "metadata": {
      "needs_background": "light"
     },
     "output_type": "display_data"
    }
   ],
   "source": [
    "#same code\n",
    "plt.scatter(clust1[:,0],clust1[:,1])\n",
    "plt.scatter(clust2[:,0],clust2[:,1])\n",
    "plt.scatter([m1[0],m2[0]],[m1[1],m2[1]],marker=\"*\")\n",
    "plt.show()"
   ]
  },
  {
   "cell_type": "code",
   "execution_count": null,
   "metadata": {},
   "outputs": [],
   "source": []
  },
  {
   "cell_type": "code",
   "execution_count": null,
   "metadata": {},
   "outputs": [],
   "source": []
  }
 ],
 "metadata": {
  "kernelspec": {
   "display_name": "Python 3",
   "language": "python",
   "name": "python3"
  },
  "language_info": {
   "codemirror_mode": {
    "name": "ipython",
    "version": 3
   },
   "file_extension": ".py",
   "mimetype": "text/x-python",
   "name": "python",
   "nbconvert_exporter": "python",
   "pygments_lexer": "ipython3",
   "version": "3.7.0"
  }
 },
 "nbformat": 4,
 "nbformat_minor": 2
}
=======
  "nbformat": 4,
  "nbformat_minor": 0,
  "metadata": {
    "colab": {
      "name": "KMeans_Clustering.ipynb",
      "version": "0.3.2",
      "provenance": [],
      "include_colab_link": true
    },
    "language_info": {
      "codemirror_mode": {
        "name": "ipython",
        "version": 3
      },
      "file_extension": ".py",
      "mimetype": "text/x-python",
      "name": "python",
      "nbconvert_exporter": "python",
      "pygments_lexer": "ipython3",
      "version": "3.7.0"
    },
    "kernelspec": {
      "display_name": "Python 3",
      "language": "python",
      "name": "python3"
    }
  },
  "cells": [
    {
      "cell_type": "markdown",
      "metadata": {
        "id": "view-in-github",
        "colab_type": "text"
      },
      "source": [
        "<a href=\"https://colab.research.google.com/github/vnkdj5/SPPU_BE_COMP_2015/blob/master/LP3/ML/KMeans_Clustering.ipynb\" target=\"_parent\"><img src=\"https://colab.research.google.com/assets/colab-badge.svg\" alt=\"Open In Colab\"/></a>"
      ]
    },
    {
      "metadata": {
        "id": "zFHROFt-pJGZ",
        "colab_type": "code",
        "colab": {}
      },
      "cell_type": "code",
      "source": [
        "import numpy as np\n",
        "import matplotlib.pyplot as plt\n",
        "import math\n",
        "%matplotlib inline"
      ],
      "execution_count": 0,
      "outputs": []
    },
    {
      "metadata": {
        "id": "A0y1P5pOpVM7",
        "colab_type": "text"
      },
      "cell_type": "markdown",
      "source": [
        "**K Means clustering**\n",
        "We have given a collection of 8 points. P1=[0.1,0.6] P2=[0.15,0.71] P3=[0.08,0.9] P4=[0.16,\n",
        "0.85] P5=[0.2,0.3] P6=[0.25,0.5] P7=[0.24,0.1] P8=[0.3,0.2]. Perform the k-mean clustering\n",
        "with initial centroids as\n",
        "m1=P1 =Cluster#1=C1 and m2=P8=cluster#2=C2. Answer the\n",
        "following\n",
        "1] Which cluster does P6 belongs to?   \n",
        "2] What is the population of cluster around m2?\n",
        "3] What is updated value of m1 and m2?"
      ]
    },
    {
      "metadata": {
        "id": "86UOgVKipJGf",
        "colab_type": "code",
        "colab": {}
      },
      "cell_type": "code",
      "source": [
        "x=np.array([0.1,0.15,0.08,0.16,0.2,0.25,0.24,0.3])\n",
        "y=np.array([0.6,0.71,0.9,0.85,0.3,0.5,0.1,0.2])"
      ],
      "execution_count": 0,
      "outputs": []
    },
    {
      "metadata": {
        "id": "mmp0yJ8ipJGj",
        "colab_type": "code",
        "colab": {
          "base_uri": "https://localhost:8080/",
          "height": 269
        },
        "outputId": "e29908eb-7226-49e5-d464-ffce55f5b74b"
      },
      "cell_type": "code",
      "source": [
        "#data points mapped on CY axis\n",
        "plt.plot(x,y,\"o\")\n",
        "plt.show()"
      ],
      "execution_count": 6,
      "outputs": [
        {
          "output_type": "display_data",
          "data": {
            "image/png": "iVBORw0KGgoAAAANSUhEUgAAAXcAAAD8CAYAAACMwORRAAAABHNCSVQICAgIfAhkiAAAAAlwSFlz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\nyHCXpAYy3CWpgf4fmMXW+9/Tx8QAAAAASUVORK5CYII=\n",
            "text/plain": [
              "<Figure size 432x288 with 1 Axes>"
            ]
          },
          "metadata": {
            "tags": []
          }
        }
      ]
    },
    {
      "metadata": {
        "id": "Ho_sDhoGpJGp",
        "colab_type": "code",
        "colab": {}
      },
      "cell_type": "code",
      "source": [
        "def eucledian_distance(x1,y1,x2,y2):\n",
        "    return math.sqrt((x1-x2)**2+(y1-y2)**2)"
      ],
      "execution_count": 0,
      "outputs": []
    },
    {
      "metadata": {
        "id": "PKPttsfppJGs",
        "colab_type": "code",
        "colab": {}
      },
      "cell_type": "code",
      "source": [
        "def returnCluster(m1,m2,x_co,y_co):\n",
        "    distance1=eucledian_distance(m1[0],m1[1],x_co,y_co)\n",
        "    \n",
        "    distance2=eucledian_distance(m2[0],m2[1],x_co,y_co)\n",
        "    \n",
        "    if(distance1<distance2):\n",
        "        return 1;\n",
        "    else:\n",
        "        return 2;\n",
        "    "
      ],
      "execution_count": 0,
      "outputs": []
    },
    {
      "metadata": {
        "id": "a1gWFiHGpJGw",
        "colab_type": "code",
        "colab": {}
      },
      "cell_type": "code",
      "source": [
        ""
      ],
      "execution_count": 0,
      "outputs": []
    },
    {
      "metadata": {
        "id": "Qba532NGpJG1",
        "colab_type": "code",
        "colab": {
          "base_uri": "https://localhost:8080/",
          "height": 235
        },
        "outputId": "7ee6a2e8-6e2f-40ba-ca31-d973bb371fdd"
      },
      "cell_type": "code",
      "source": [
        "#initial centroids for cluster1 nd cluster 2\n",
        "m1=[0.1,0.6]\n",
        "m2=[0.3,0.2]\n",
        "difference = math.inf\n",
        "threshold=0.02\n",
        "iteration=0;\n",
        "while difference>threshold: #use any one condition #iteration one is easy\n",
        "    print(\"Iteration \",iteration, \" : m1=\",m1, \" m2=\",m2)\n",
        "    cluster1=[];\n",
        "    cluster2=[];\n",
        "    \n",
        "    #step1 assign all points to nearest cluster\n",
        "    for i in range(0,np.size(x)):\n",
        "        clusterNumber=returnCluster(m1,m2,x[i],y[i])\n",
        "        point=[x[i],y[i]]\n",
        "        if clusterNumber==1:\n",
        "            cluster1.append(point);\n",
        "        else:\n",
        "            cluster2.append(point)\n",
        "        \n",
        "    print(\"cluster 1\", cluster1,\"\\nCLuster 2: \", cluster2)\n",
        "    \n",
        "    #step 2: Calculating new centriod for cluster1\n",
        "    m1_old=m1;\n",
        "    m1=[]\n",
        "    m1=np.mean(cluster1, axis=0)\n",
        "    \n",
        "    #calculating centroid for cluster2\n",
        "    m2_old=m2;\n",
        "    m2=[];\n",
        "    m2=np.mean(cluster2,axis=0)\n",
        "    print(\"m1 = \",m1,\" m2=\",m2)\n",
        "    \n",
        "    #adjusting diffrences of adjustment between m1 nd m1_old\n",
        "    xAvg=0.0;\n",
        "    yAvg=0.0;\n",
        "    xAvg=math.fabs(m1[0]-m1_old[0])+math.fabs(m2[0]-m2_old[0])\n",
        "    xAvg=xAvg/2;\n",
        "    \n",
        "    yAvg=math.fabs(m1[1]-m1_old[1])+math.fabs(m2[1]-m2_old[1])\n",
        "    yAvg=yAvg/2;\n",
        "    \n",
        "    if(xAvg>yAvg):\n",
        "        difference=xAvg;\n",
        "    else:\n",
        "        difference=yAvg;\n",
        "        \n",
        "    print(\"Difference  : \", difference)\n",
        "    iteration+=1;\n",
        "    print(\"\")\n",
        "    "
      ],
      "execution_count": 9,
      "outputs": [
        {
          "output_type": "stream",
          "text": [
            "Iteration  0  : m1= [0.1, 0.6]  m2= [0.3, 0.2]\n",
            "cluster 1 [[0.1, 0.6], [0.15, 0.71], [0.08, 0.9], [0.16, 0.85], [0.25, 0.5]] \n",
            "CLuster 2:  [[0.2, 0.3], [0.24, 0.1], [0.3, 0.2]]\n",
            "m1 =  [0.148 0.712]  m2= [0.24666667 0.2       ]\n",
            "Difference  :  0.05600000000000001\n",
            "\n",
            "Iteration  1  : m1= [0.148 0.712]  m2= [0.24666667 0.2       ]\n",
            "cluster 1 [[0.1, 0.6], [0.15, 0.71], [0.08, 0.9], [0.16, 0.85], [0.25, 0.5]] \n",
            "CLuster 2:  [[0.2, 0.3], [0.24, 0.1], [0.3, 0.2]]\n",
            "m1 =  [0.148 0.712]  m2= [0.24666667 0.2       ]\n",
            "Difference  :  0.0\n",
            "\n"
          ],
          "name": "stdout"
        }
      ]
    },
    {
      "metadata": {
        "id": "275wQnzepJG6",
        "colab_type": "code",
        "colab": {
          "base_uri": "https://localhost:8080/",
          "height": 342
        },
        "outputId": "e8ad1c4f-35c5-4c68-da71-deebac008891"
      },
      "cell_type": "code",
      "source": [
        "#final Output\n",
        "print(\"Cluster 1 centroid : m1 = \",m1)\n",
        "print(\"CLuster 1 points: \", cluster1)\n",
        "print(\"Cluster 2 centroid : m2 = \",m2)\n",
        "print(\"CLuster 2 points: \", cluster2)\n",
        "\n",
        "clust1=np.array(cluster1)\n",
        "clust2=np.array(cluster2)\n",
        "\n",
        "#cluster 1 points\n",
        "plt.plot(clust1[:,0],clust1[:,1],\"o\")\n",
        "\n",
        "#cluster2 points\n",
        "plt.plot(clust2[:,0], clust2[:,1],\"*\")\n",
        "\n",
        "#centroids\n",
        "plt.plot([m1[0],m2[0]],[m1[1],m2[1]],\"^\")\n",
        "plt.show()"
      ],
      "execution_count": 10,
      "outputs": [
        {
          "output_type": "stream",
          "text": [
            "Cluster 1 centroid : m1 =  [0.148 0.712]\n",
            "CLuster 1 points:  [[0.1, 0.6], [0.15, 0.71], [0.08, 0.9], [0.16, 0.85], [0.25, 0.5]]\n",
            "Cluster 2 centroid : m2 =  [0.24666667 0.2       ]\n",
            "CLuster 2 points:  [[0.2, 0.3], [0.24, 0.1], [0.3, 0.2]]\n"
          ],
          "name": "stdout"
        },
        {
          "output_type": "display_data",
          "data": {
            "image/png": "iVBORw0KGgoAAAANSUhEUgAAAXcAAAD8CAYAAACMwORRAAAABHNCSVQICAgIfAhkiAAAAAlwSFlz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\n",
            "text/plain": [
              "<Figure size 432x288 with 1 Axes>"
            ]
          },
          "metadata": {
            "tags": []
          }
        }
      ]
    },
    {
      "metadata": {
        "id": "OwBRtUNCpJHA",
        "colab_type": "code",
        "colab": {
          "base_uri": "https://localhost:8080/",
          "height": 269
        },
        "outputId": "68b289d3-8b66-41d8-9ef0-dcbdd10206da"
      },
      "cell_type": "code",
      "source": [
        "#same code\n",
        "plt.scatter(clust1[:,0],clust1[:,1])\n",
        "plt.scatter(clust2[:,0],clust2[:,1])\n",
        "plt.scatter([m1[0],m2[0]],[m1[1],m2[1]],marker=\"*\")\n",
        "plt.show()"
      ],
      "execution_count": 11,
      "outputs": [
        {
          "output_type": "display_data",
          "data": {
            "image/png": "iVBORw0KGgoAAAANSUhEUgAAAXcAAAD8CAYAAACMwORRAAAABHNCSVQICAgIfAhkiAAAAAlwSFlz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\nJBXIcJekAv0/rN9WXwxnaTgAAAAASUVORK5CYII=\n",
            "text/plain": [
              "<Figure size 432x288 with 1 Axes>"
            ]
          },
          "metadata": {
            "tags": []
          }
        }
      ]
    }
  ]
}
>>>>>>> aa8061df33a87d064a4a28f22e734049ce89f6a8
