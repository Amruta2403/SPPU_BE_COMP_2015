{
  "nbformat": 4,
  "nbformat_minor": 0,
  "metadata": {
    "colab": {
      "name": "KMeans_Clustering.ipynb",
      "version": "0.3.2",
      "provenance": [],
      "collapsed_sections": [],
      "include_colab_link": true
    },
    "language_info": {
      "codemirror_mode": {
        "name": "ipython",
        "version": 3
      },
      "file_extension": ".py",
      "mimetype": "text/x-python",
      "name": "python",
      "nbconvert_exporter": "python",
      "pygments_lexer": "ipython3",
      "version": "3.7.0"
    },
    "kernelspec": {
      "display_name": "Python 3",
      "language": "python",
      "name": "python3"
    }
  },
  "cells": [
    {
      "cell_type": "markdown",
      "metadata": {
        "id": "view-in-github",
        "colab_type": "text"
      },
      "source": [
        "<a href=\"https://colab.research.google.com/github/vnkdj5/SPPU_BE_COMP_2015/blob/master/LP3/ML/KMeans_Clustering.ipynb\" target=\"_parent\"><img src=\"https://colab.research.google.com/assets/colab-badge.svg\" alt=\"Open In Colab\"/></a>"
      ]
    },
    {
      "metadata": {
        "id": "KkdN03nLh2YB",
        "colab_type": "code",
        "colab": {}
      },
      "cell_type": "code",
      "source": [
        "import numpy as np\n",
        "import matplotlib.pyplot as plt\n",
        "import math\n",
        "%matplotlib inline"
      ],
      "execution_count": 0,
      "outputs": []
    },
    {
      "metadata": {
        "id": "rkVNE5xwh2YM",
        "colab_type": "code",
        "colab": {}
      },
      "cell_type": "code",
      "source": [
        "x=np.array([0.1,0.15,0.08,0.16,0.2,0.25,0.24,0.3])\n",
        "y=np.array([0.6,0.71,0.9,0.85,0.3,0.5,0.1,0.2])"
      ],
      "execution_count": 0,
      "outputs": []
    },
    {
      "metadata": {
        "id": "zZay0htSh2YR",
        "colab_type": "code",
        "colab": {
          "base_uri": "https://localhost:8080/",
          "height": 269
        },
        "outputId": "24209850-c5f6-4c6b-dc98-87aae71fe886"
      },
      "cell_type": "code",
      "source": [
        "#data points mapped on CY axis\n",
        "plt.plot(x,y,\"o\")\n",
        "plt.show()"
      ],
      "execution_count": 5,
      "outputs": [
        {
          "output_type": "display_data",
          "data": {
            "image/png": "[encoded data removed]",
            "text/plain": [
              "<Figure size 432x288 with 1 Axes>"
            ]
          },
          "metadata": {
            "tags": []
          }
        }
      ]
    },
    {
      "metadata": {
        "id": "BhZkT9FDh2Yg",
        "colab_type": "code",
        "colab": {}
      },
      "cell_type": "code",
      "source": [
        "def eucledian_distance(x1,y1,x2,y2):\n",
        "    return math.sqrt((x1-x2)**2+(y1-y2)**2)"
      ],
      "execution_count": 0,
      "outputs": []
    },
    {
      "metadata": {
        "id": "nsGOuDHHh2Yn",
        "colab_type": "code",
        "colab": {}
      },
      "cell_type": "code",
      "source": [
        "def returnCluster(m1,m2,x_co,y_co):\n",
        "    distance1=eucledian_distance(m1[0],m1[1],x_co,y_co)\n",
        "    \n",
        "    distance2=eucledian_distance(m2[0],m2[1],x_co,y_co)\n",
        "    \n",
        "    if(distance1<distance2):\n",
        "        return 1;\n",
        "    else:\n",
        "        return 2;\n",
        "    "
      ],
      "execution_count": 0,
      "outputs": []
    },
    {
      "metadata": {
        "id": "iIGorT9Gh2Yv",
        "colab_type": "code",
        "colab": {}
      },
      "cell_type": "code",
      "source": [
        ""
      ],
      "execution_count": 0,
      "outputs": []
    },
    {
      "metadata": {
        "id": "ZVfBmLY2h2Yy",
        "colab_type": "code",
        "colab": {
          "base_uri": "https://localhost:8080/",
          "height": 235
        },
        "outputId": "89422b36-723c-4a1d-cbec-db72db32ae75"
      },
      "cell_type": "code",
      "source": [
        "#initial centroids for cluster1 nd cluster 2\n",
        "m1=[0.1,0.6]\n",
        "m2=[0.3,0.2]\n",
        "difference = math.inf\n",
        "threshold=0.02\n",
        "iteration=0;\n",
        "while difference>threshold and iteration <100:\n",
        "    print(\"Iteration \",iteration, \" : m1=\",m1, \" m2=\",m2)\n",
        "    cluster1=[]\n",
        "    cluster2=[];\n",
        "    \n",
        "    #step1 assign all points to nearest cluster\n",
        "    for i in range(0,np.size(x)):\n",
        "        clusterNumber=returnCluster(m1,m2,x[i],y[i])\n",
        "        point=[x[i],y[i]]\n",
        "        if clusterNumber==1:\n",
        "            cluster1.append(point);\n",
        "        else:\n",
        "            cluster2.append(point)\n",
        "        \n",
        "    print(\"cluster 1\", cluster1,\"\\nCLuster 2: \", cluster2)\n",
        "    \n",
        "    #step 2: Calculating new centriod for cluster1\n",
        "    m1_old=m1;\n",
        "    m1=np.mean(cluster1, axis=0)\n",
        "    \n",
        "    #calculating centroid for cluster2\n",
        "    m2_old=m2;\n",
        "    m2=np.mean(cluster2,axis=0)\n",
        "    print(\"m1 = \",m1,\" m2=\",m2)\n",
        "    \n",
        "    #adjusting diffrences of adjustment between m1 nd m1_old\n",
        "    xAvg=0.0;\n",
        "    yAvg=0.0;\n",
        "    xAvg=math.fabs(m1[0]-m1_old[0])+math.fabs(m2[0]-m2_old[0])\n",
        "    xAvg=xAvg/2;\n",
        "    \n",
        "    yAvg=math.fabs(m1[1]-m1_old[1])+math.fabs(m2[1]-m2_old[1])\n",
        "    yAvg=yAvg/2;\n",
        "    \n",
        "    if(xAvg>yAvg):\n",
        "        difference=xAvg;\n",
        "    else:\n",
        "        difference=yAvg;\n",
        "        \n",
        "    print(\"Difference  : \", difference)\n",
        "    iteration+=1;\n",
        "    print(\"\")\n",
        "    "
      ],
      "execution_count": 9,
      "outputs": [
        {
          "output_type": "stream",
          "text": [
            "Iteration  0  : m1= [0.1, 0.6]  m2= [0.3, 0.2]\n",
            "cluster 1 [[0.1, 0.6], [0.15, 0.71], [0.08, 0.9], [0.16, 0.85], [0.25, 0.5]] \n",
            "CLuster 2:  [[0.2, 0.3], [0.24, 0.1], [0.3, 0.2]]\n",
            "m1 =  [0.148 0.712]  m2= [0.24666667 0.2       ]\n",
            "Difference  :  0.05600000000000001\n",
            "\n",
            "Iteration  1  : m1= [0.148 0.712]  m2= [0.24666667 0.2       ]\n",
            "cluster 1 [[0.1, 0.6], [0.15, 0.71], [0.08, 0.9], [0.16, 0.85], [0.25, 0.5]] \n",
            "CLuster 2:  [[0.2, 0.3], [0.24, 0.1], [0.3, 0.2]]\n",
            "m1 =  [0.148 0.712]  m2= [0.24666667 0.2       ]\n",
            "Difference  :  0.0\n",
            "\n"
          ],
          "name": "stdout"
        }
      ]
    },
    {
      "metadata": {
        "id": "sDXa2hGsh2da",
        "colab_type": "code",
        "colab": {}
      },
      "cell_type": "code",
      "source": [
        ""
      ],
      "execution_count": 0,
      "outputs": []
    }
  ]
}