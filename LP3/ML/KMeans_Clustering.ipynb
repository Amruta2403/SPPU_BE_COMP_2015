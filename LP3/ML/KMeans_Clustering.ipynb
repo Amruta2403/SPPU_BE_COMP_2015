{
 "cells": [
  {
   "cell_type": "code",
   "execution_count": 3,
   "metadata": {},
   "outputs": [],
   "source": [
    "import numpy as np\n",
    "import matplotlib.pyplot as plt\n",
    "import math\n",
    "%matplotlib inline"
   ]
  },
  {
   "cell_type": "code",
   "execution_count": 4,
   "metadata": {},
   "outputs": [],
   "source": [
    "x=np.array([0.1,0.15,0.08,0.16,0.2,0.25,0.24,0.3])\n",
    "y=np.array([0.6,0.71,0.9,0.85,0.3,0.5,0.1,0.2])"
   ]
  },
  {
   "cell_type": "code",
   "execution_count": 5,
   "metadata": {},
   "outputs": [
    {
     "data": {
      "image/png": "[encoded data removed]",
      "text/plain": [
       "<Figure size 432x288 with 1 Axes>"
      ]
     },
     "metadata": {
      "needs_background": "light"
     },
     "output_type": "display_data"
    }
   ],
   "source": [
    "#data points mapped on CY axis\n",
    "plt.plot(x,y,\"o\")\n",
    "plt.show()"
   ]
  },
  {
   "cell_type": "code",
   "execution_count": 6,
   "metadata": {},
   "outputs": [],
   "source": [
    "def eucledian_distance(x1,y1,x2,y2):\n",
    "    return math.sqrt((x1-x2)**2+(y1-y2)**2)"
   ]
  },
  {
   "cell_type": "code",
   "execution_count": 7,
   "metadata": {},
   "outputs": [],
   "source": [
    "def returnCluster(m1,m2,x_co,y_co):\n",
    "    distance1=eucledian_distance(m1[0],m1[1],x_co,y_co)\n",
    "    \n",
    "    distance2=eucledian_distance(m2[0],m2[1],x_co,y_co)\n",
    "    \n",
    "    if(distance1<distance2):\n",
    "        return 1;\n",
    "    else:\n",
    "        return 2;\n",
    "    "
   ]
  },
  {
   "cell_type": "code",
   "execution_count": null,
   "metadata": {},
   "outputs": [],
   "source": []
  },
  {
   "cell_type": "code",
   "execution_count": 36,
   "metadata": {},
   "outputs": [
    {
     "name": "stdout",
     "output_type": "stream",
     "text": [
      "Iteration  0  : m1= [0.1, 0.6]  m2= [0.3, 0.2]\n",
      "cluster 1 [[0.1, 0.6], [0.15, 0.71], [0.08, 0.9], [0.16, 0.85], [0.25, 0.5]] \n",
      "CLuster 2:  [[0.2, 0.3], [0.24, 0.1], [0.3, 0.2]]\n",
      "m1 =  [0.148 0.712]  m2= [0.24666667 0.2       ]\n",
      "Difference  :  0.05600000000000001\n",
      "\n",
      "Iteration  1  : m1= [0.148 0.712]  m2= [0.24666667 0.2       ]\n",
      "cluster 1 [[0.1, 0.6], [0.15, 0.71], [0.08, 0.9], [0.16, 0.85], [0.25, 0.5]] \n",
      "CLuster 2:  [[0.2, 0.3], [0.24, 0.1], [0.3, 0.2]]\n",
      "m1 =  [0.148 0.712]  m2= [0.24666667 0.2       ]\n",
      "Difference  :  0.0\n",
      "\n"
     ]
    }
   ],
   "source": [
    "#initial centroids for cluster1 nd cluster 2\n",
    "m1=[0.1,0.6]\n",
    "m2=[0.3,0.2]\n",
    "difference = math.inf\n",
    "threshold=0.02\n",
    "iteration=0;\n",
    "while difference>threshold: #use any one condition #iteration one is easy\n",
    "    print(\"Iteration \",iteration, \" : m1=\",m1, \" m2=\",m2)\n",
    "    cluster1=[];\n",
    "    cluster2=[];\n",
    "    \n",
    "    #step1 assign all points to nearest cluster\n",
    "    for i in range(0,np.size(x)):\n",
    "        clusterNumber=returnCluster(m1,m2,x[i],y[i])\n",
    "        point=[x[i],y[i]]\n",
    "        if clusterNumber==1:\n",
    "            cluster1.append(point);\n",
    "        else:\n",
    "            cluster2.append(point)\n",
    "        \n",
    "    print(\"cluster 1\", cluster1,\"\\nCLuster 2: \", cluster2)\n",
    "    \n",
    "    #step 2: Calculating new centriod for cluster1\n",
    "    m1_old=m1;\n",
    "    m1=[]\n",
    "    m1=np.mean(cluster1, axis=0)\n",
    "    \n",
    "    #calculating centroid for cluster2\n",
    "    m2_old=m2;\n",
    "    m2=[];\n",
    "    m2=np.mean(cluster2,axis=0)\n",
    "    print(\"m1 = \",m1,\" m2=\",m2)\n",
    "    \n",
    "    #adjusting diffrences of adjustment between m1 nd m1_old\n",
    "    xAvg=0.0;\n",
    "    yAvg=0.0;\n",
    "    xAvg=math.fabs(m1[0]-m1_old[0])+math.fabs(m2[0]-m2_old[0])\n",
    "    xAvg=xAvg/2;\n",
    "    \n",
    "    yAvg=math.fabs(m1[1]-m1_old[1])+math.fabs(m2[1]-m2_old[1])\n",
    "    yAvg=yAvg/2;\n",
    "    \n",
    "    if(xAvg>yAvg):\n",
    "        difference=xAvg;\n",
    "    else:\n",
    "        difference=yAvg;\n",
    "        \n",
    "    print(\"Difference  : \", difference)\n",
    "    iteration+=1;\n",
    "    print(\"\")\n",
    "    "
   ]
  },
  {
   "cell_type": "code",
   "execution_count": 37,
   "metadata": {},
   "outputs": [
    {
     "name": "stdout",
     "output_type": "stream",
     "text": [
      "Cluster 1 centroid : m1 =  [0.148 0.712]\n",
      "CLuster 1 points:  [[0.1, 0.6], [0.15, 0.71], [0.08, 0.9], [0.16, 0.85], [0.25, 0.5]]\n",
      "Cluster 2 centroid : m2 =  [0.24666667 0.2       ]\n",
      "CLuster 2 points:  [[0.2, 0.3], [0.24, 0.1], [0.3, 0.2]]\n"
     ]
    },
    {
     "data": {
      "image/png": "[encoded data removed]",
      "text/plain": [
       "<Figure size 432x288 with 1 Axes>"
      ]
     },
     "metadata": {
      "needs_background": "light"
     },
     "output_type": "display_data"
    }
   ],
   "source": [
    "#final Output\n",
    "print(\"Cluster 1 centroid : m1 = \",m1)\n",
    "print(\"CLuster 1 points: \", cluster1)\n",
    "print(\"Cluster 2 centroid : m2 = \",m2)\n",
    "print(\"CLuster 2 points: \", cluster2)\n",
    "\n",
    "clust1=np.array(cluster1)\n",
    "clust2=np.array(cluster2)\n",
    "\n",
    "#cluster 1 points\n",
    "plt.plot(clust1[:,0],clust1[:,1],\"o\")\n",
    "\n",
    "#cluster2 points\n",
    "plt.plot(clust2[:,0], clust2[:,1],\"*\")\n",
    "\n",
    "#centroids\n",
    "plt.plot([m1[0],m2[0]],[m1[1],m2[1]],\"^\")\n",
    "plt.show()"
   ]
  },
  {
   "cell_type": "code",
   "execution_count": 45,
   "metadata": {},
   "outputs": [
    {
     "data": {
      "image/png": "[encoded data removed]",
      "text/plain": [
       "<Figure size 432x288 with 1 Axes>"
      ]
     },
     "metadata": {
      "needs_background": "light"
     },
     "output_type": "display_data"
    }
   ],
   "source": [
    "#same code\n",
    "plt.scatter(clust1[:,0],clust1[:,1])\n",
    "plt.scatter(clust2[:,0],clust2[:,1])\n",
    "plt.scatter([m1[0],m2[0]],[m1[1],m2[1]],marker=\"*\")\n",
    "plt.show()"
   ]
  },
  {
   "cell_type": "code",
   "execution_count": null,
   "metadata": {},
   "outputs": [],
   "source": []
  },
  {
   "cell_type": "code",
   "execution_count": null,
   "metadata": {},
   "outputs": [],
   "source": []
  }
 ],
 "metadata": {
  "kernelspec": {
   "display_name": "Python 3",
   "language": "python",
   "name": "python3"
  },
  "language_info": {
   "codemirror_mode": {
    "name": "ipython",
    "version": 3
   },
   "file_extension": ".py",
   "mimetype": "text/x-python",
   "name": "python",
   "nbconvert_exporter": "python",
   "pygments_lexer": "ipython3",
   "version": "3.7.0"
  }
 },
 "nbformat": 4,
 "nbformat_minor": 2
}
